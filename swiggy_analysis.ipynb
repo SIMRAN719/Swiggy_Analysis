{
 "cells": [
  {
   "cell_type": "markdown",
   "metadata": {},
   "source": [
    "# Swiggy Analysis"
   ]
  },
  {
   "cell_type": "code",
   "execution_count": 1,
   "metadata": {},
   "outputs": [],
   "source": [
    "import numpy as np \n",
    "import pandas as pd \n",
    "import matplotlib as mt \n",
    "from matplotlib import pyplot as plt "
   ]
  },
  {
   "cell_type": "code",
   "execution_count": 2,
   "metadata": {},
   "outputs": [
    {
     "data": {
      "text/html": [
       "<div>\n",
       "<style scoped>\n",
       "    .dataframe tbody tr th:only-of-type {\n",
       "        vertical-align: middle;\n",
       "    }\n",
       "\n",
       "    .dataframe tbody tr th {\n",
       "        vertical-align: top;\n",
       "    }\n",
       "\n",
       "    .dataframe thead th {\n",
       "        text-align: right;\n",
       "    }\n",
       "</style>\n",
       "<table border=\"1\" class=\"dataframe\">\n",
       "  <thead>\n",
       "    <tr style=\"text-align: right;\">\n",
       "      <th></th>\n",
       "      <th>ID</th>\n",
       "      <th>Area</th>\n",
       "      <th>City</th>\n",
       "      <th>Restaurant</th>\n",
       "      <th>Price</th>\n",
       "      <th>Avg ratings</th>\n",
       "      <th>Total ratings</th>\n",
       "      <th>Food type</th>\n",
       "      <th>Address</th>\n",
       "      <th>Delivery time</th>\n",
       "    </tr>\n",
       "  </thead>\n",
       "  <tbody>\n",
       "    <tr>\n",
       "      <th>0</th>\n",
       "      <td>211</td>\n",
       "      <td>Koramangala</td>\n",
       "      <td>Bangalore</td>\n",
       "      <td>Tandoor Hut</td>\n",
       "      <td>300.0</td>\n",
       "      <td>4.4</td>\n",
       "      <td>100</td>\n",
       "      <td>Biryani,Chinese,North Indian,South Indian</td>\n",
       "      <td>5Th Block</td>\n",
       "      <td>59</td>\n",
       "    </tr>\n",
       "    <tr>\n",
       "      <th>1</th>\n",
       "      <td>221</td>\n",
       "      <td>Koramangala</td>\n",
       "      <td>Bangalore</td>\n",
       "      <td>Tunday Kababi</td>\n",
       "      <td>300.0</td>\n",
       "      <td>4.1</td>\n",
       "      <td>100</td>\n",
       "      <td>Mughlai,Lucknowi</td>\n",
       "      <td>5Th Block</td>\n",
       "      <td>56</td>\n",
       "    </tr>\n",
       "    <tr>\n",
       "      <th>2</th>\n",
       "      <td>246</td>\n",
       "      <td>Jogupalya</td>\n",
       "      <td>Bangalore</td>\n",
       "      <td>Kim Lee</td>\n",
       "      <td>650.0</td>\n",
       "      <td>4.4</td>\n",
       "      <td>100</td>\n",
       "      <td>Chinese</td>\n",
       "      <td>Double Road</td>\n",
       "      <td>50</td>\n",
       "    </tr>\n",
       "    <tr>\n",
       "      <th>3</th>\n",
       "      <td>248</td>\n",
       "      <td>Indiranagar</td>\n",
       "      <td>Bangalore</td>\n",
       "      <td>New Punjabi Hotel</td>\n",
       "      <td>250.0</td>\n",
       "      <td>3.9</td>\n",
       "      <td>500</td>\n",
       "      <td>North Indian,Punjabi,Tandoor,Chinese</td>\n",
       "      <td>80 Feet Road</td>\n",
       "      <td>57</td>\n",
       "    </tr>\n",
       "    <tr>\n",
       "      <th>4</th>\n",
       "      <td>249</td>\n",
       "      <td>Indiranagar</td>\n",
       "      <td>Bangalore</td>\n",
       "      <td>Nh8</td>\n",
       "      <td>350.0</td>\n",
       "      <td>4.0</td>\n",
       "      <td>50</td>\n",
       "      <td>Rajasthani,Gujarati,North Indian,Snacks,Desser...</td>\n",
       "      <td>80 Feet Road</td>\n",
       "      <td>63</td>\n",
       "    </tr>\n",
       "  </tbody>\n",
       "</table>\n",
       "</div>"
      ],
      "text/plain": [
       "    ID         Area       City         Restaurant  Price  Avg ratings  \\\n",
       "0  211  Koramangala  Bangalore        Tandoor Hut  300.0          4.4   \n",
       "1  221  Koramangala  Bangalore      Tunday Kababi  300.0          4.1   \n",
       "2  246    Jogupalya  Bangalore            Kim Lee  650.0          4.4   \n",
       "3  248  Indiranagar  Bangalore  New Punjabi Hotel  250.0          3.9   \n",
       "4  249  Indiranagar  Bangalore                Nh8  350.0          4.0   \n",
       "\n",
       "   Total ratings                                          Food type  \\\n",
       "0            100          Biryani,Chinese,North Indian,South Indian   \n",
       "1            100                                   Mughlai,Lucknowi   \n",
       "2            100                                            Chinese   \n",
       "3            500               North Indian,Punjabi,Tandoor,Chinese   \n",
       "4             50  Rajasthani,Gujarati,North Indian,Snacks,Desser...   \n",
       "\n",
       "        Address  Delivery time  \n",
       "0     5Th Block             59  \n",
       "1     5Th Block             56  \n",
       "2   Double Road             50  \n",
       "3  80 Feet Road             57  \n",
       "4  80 Feet Road             63  "
      ]
     },
     "execution_count": 2,
     "metadata": {},
     "output_type": "execute_result"
    }
   ],
   "source": [
    "f=pd.read_csv(\"dataset/swiggy.csv\")\n",
    "f.head()"
   ]
  },
  {
   "cell_type": "code",
   "execution_count": 3,
   "metadata": {},
   "outputs": [
    {
     "name": "stdout",
     "output_type": "stream",
     "text": [
      "<class 'pandas.core.frame.DataFrame'>\n",
      "RangeIndex: 8680 entries, 0 to 8679\n",
      "Data columns (total 10 columns):\n",
      " #   Column         Non-Null Count  Dtype  \n",
      "---  ------         --------------  -----  \n",
      " 0   ID             8680 non-null   int64  \n",
      " 1   Area           8680 non-null   object \n",
      " 2   City           8680 non-null   object \n",
      " 3   Restaurant     8680 non-null   object \n",
      " 4   Price          8680 non-null   float64\n",
      " 5   Avg ratings    8680 non-null   float64\n",
      " 6   Total ratings  8680 non-null   int64  \n",
      " 7   Food type      8680 non-null   object \n",
      " 8   Address        8680 non-null   object \n",
      " 9   Delivery time  8680 non-null   int64  \n",
      "dtypes: float64(2), int64(3), object(5)\n",
      "memory usage: 678.3+ KB\n"
     ]
    }
   ],
   "source": [
    "f.info()"
   ]
  },
  {
   "cell_type": "code",
   "execution_count": 4,
   "metadata": {},
   "outputs": [
    {
     "data": {
      "text/html": [
       "<div>\n",
       "<style scoped>\n",
       "    .dataframe tbody tr th:only-of-type {\n",
       "        vertical-align: middle;\n",
       "    }\n",
       "\n",
       "    .dataframe tbody tr th {\n",
       "        vertical-align: top;\n",
       "    }\n",
       "\n",
       "    .dataframe thead th {\n",
       "        text-align: right;\n",
       "    }\n",
       "</style>\n",
       "<table border=\"1\" class=\"dataframe\">\n",
       "  <thead>\n",
       "    <tr style=\"text-align: right;\">\n",
       "      <th></th>\n",
       "      <th>ID</th>\n",
       "      <th>Price</th>\n",
       "      <th>Avg ratings</th>\n",
       "      <th>Total ratings</th>\n",
       "      <th>Delivery time</th>\n",
       "    </tr>\n",
       "  </thead>\n",
       "  <tbody>\n",
       "    <tr>\n",
       "      <th>count</th>\n",
       "      <td>8680.000000</td>\n",
       "      <td>8680.000000</td>\n",
       "      <td>8680.000000</td>\n",
       "      <td>8680.000000</td>\n",
       "      <td>8680.000000</td>\n",
       "    </tr>\n",
       "    <tr>\n",
       "      <th>mean</th>\n",
       "      <td>244812.071429</td>\n",
       "      <td>348.444470</td>\n",
       "      <td>3.655104</td>\n",
       "      <td>156.634793</td>\n",
       "      <td>53.967051</td>\n",
       "    </tr>\n",
       "    <tr>\n",
       "      <th>std</th>\n",
       "      <td>158671.617188</td>\n",
       "      <td>230.940074</td>\n",
       "      <td>0.647629</td>\n",
       "      <td>391.448014</td>\n",
       "      <td>14.292335</td>\n",
       "    </tr>\n",
       "    <tr>\n",
       "      <th>min</th>\n",
       "      <td>211.000000</td>\n",
       "      <td>0.000000</td>\n",
       "      <td>2.000000</td>\n",
       "      <td>20.000000</td>\n",
       "      <td>20.000000</td>\n",
       "    </tr>\n",
       "    <tr>\n",
       "      <th>25%</th>\n",
       "      <td>72664.000000</td>\n",
       "      <td>200.000000</td>\n",
       "      <td>2.900000</td>\n",
       "      <td>50.000000</td>\n",
       "      <td>44.000000</td>\n",
       "    </tr>\n",
       "    <tr>\n",
       "      <th>50%</th>\n",
       "      <td>283442.000000</td>\n",
       "      <td>300.000000</td>\n",
       "      <td>3.900000</td>\n",
       "      <td>80.000000</td>\n",
       "      <td>53.000000</td>\n",
       "    </tr>\n",
       "    <tr>\n",
       "      <th>75%</th>\n",
       "      <td>393425.250000</td>\n",
       "      <td>400.000000</td>\n",
       "      <td>4.200000</td>\n",
       "      <td>100.000000</td>\n",
       "      <td>64.000000</td>\n",
       "    </tr>\n",
       "    <tr>\n",
       "      <th>max</th>\n",
       "      <td>466928.000000</td>\n",
       "      <td>2500.000000</td>\n",
       "      <td>5.000000</td>\n",
       "      <td>10000.000000</td>\n",
       "      <td>109.000000</td>\n",
       "    </tr>\n",
       "  </tbody>\n",
       "</table>\n",
       "</div>"
      ],
      "text/plain": [
       "                  ID        Price  Avg ratings  Total ratings  Delivery time\n",
       "count    8680.000000  8680.000000  8680.000000    8680.000000    8680.000000\n",
       "mean   244812.071429   348.444470     3.655104     156.634793      53.967051\n",
       "std    158671.617188   230.940074     0.647629     391.448014      14.292335\n",
       "min       211.000000     0.000000     2.000000      20.000000      20.000000\n",
       "25%     72664.000000   200.000000     2.900000      50.000000      44.000000\n",
       "50%    283442.000000   300.000000     3.900000      80.000000      53.000000\n",
       "75%    393425.250000   400.000000     4.200000     100.000000      64.000000\n",
       "max    466928.000000  2500.000000     5.000000   10000.000000     109.000000"
      ]
     },
     "execution_count": 4,
     "metadata": {},
     "output_type": "execute_result"
    }
   ],
   "source": [
    "f.describe()"
   ]
  },
  {
   "cell_type": "code",
   "execution_count": 5,
   "metadata": {},
   "outputs": [
    {
     "data": {
      "text/plain": [
       "ID               0\n",
       "Area             0\n",
       "City             0\n",
       "Restaurant       0\n",
       "Price            0\n",
       "Avg ratings      0\n",
       "Total ratings    0\n",
       "Food type        0\n",
       "Address          0\n",
       "Delivery time    0\n",
       "dtype: int64"
      ]
     },
     "execution_count": 5,
     "metadata": {},
     "output_type": "execute_result"
    }
   ],
   "source": [
    "f.isnull().sum()"
   ]
  },
  {
   "cell_type": "code",
   "execution_count": 6,
   "metadata": {},
   "outputs": [
    {
     "data": {
      "text/plain": [
       "City\n",
       "Ahmedabad     717\n",
       "Bangalore     946\n",
       "Chennai      1106\n",
       "Delhi         611\n",
       "Hyderabad    1075\n",
       "Kolkata      1346\n",
       "Mumbai       1277\n",
       "Pune         1090\n",
       "Surat         512\n",
       "Name: City, dtype: int64"
      ]
     },
     "execution_count": 6,
     "metadata": {},
     "output_type": "execute_result"
    }
   ],
   "source": [
    "f.groupby('City')['City'].agg('count')"
   ]
  },
  {
   "cell_type": "code",
   "execution_count": null,
   "metadata": {},
   "outputs": [],
   "source": []
  }
 ],
 "metadata": {
  "kernelspec": {
   "display_name": "Python 3",
   "language": "python",
   "name": "python3"
  },
  "language_info": {
   "codemirror_mode": {
    "name": "ipython",
    "version": 3
   },
   "file_extension": ".py",
   "mimetype": "text/x-python",
   "name": "python",
   "nbconvert_exporter": "python",
   "pygments_lexer": "ipython3",
   "version": "3.12.1"
  }
 },
 "nbformat": 4,
 "nbformat_minor": 2
}
